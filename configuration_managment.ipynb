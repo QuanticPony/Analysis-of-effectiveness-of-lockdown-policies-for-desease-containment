{
 "cells": [
  {
   "cell_type": "markdown",
   "metadata": {},
   "source": [
    "Este archivo genera las configuraciones y prepara las listas de fallecidos $p(t)$ de todos los países."
   ]
  },
  {
   "cell_type": "code",
   "execution_count": 1,
   "metadata": {},
   "outputs": [],
   "source": [
    "from model import *"
   ]
  },
  {
   "cell_type": "code",
   "execution_count": null,
   "metadata": {},
   "outputs": [],
   "source": [
    "\n",
    "all_countries = configuration.get_all_countries()\n",
    "\n",
    "for i,c in enumerate(all_countries):\n",
    "    kernel.progress_bar(f'Generarando configuración', i, len(all_countries), len=25, sufix=f\"({c})\", end=\"\\r\")\n",
    "    configuration.prepare_deaths_p_active(c, plot=False, v2=True)\n",
    "\n",
    "    try:\n",
    "        conf_ref = configuration.read_configuration(c, prefix=\"used/\", sufix=\"\", v2=True)\n",
    "        conf = configuration.read_configuration(c, prefix=\"used/\", sufix=\"_final\", v2=True)\n",
    "        conf[\"total_population\"] = conf_ref[\"total_population\"]\n",
    "        conf[\"score\"] = conf_ref[\"score\"]\n",
    "        configuration.save_configuration(conf, prefix=\"used/\", sufix=\"_final\")\n",
    "    except Exception as e:\n",
    "        print(e)\n",
    "else:\n",
    "    kernel.progress_bar('Generarando configuración', 1, 1, len=25, sufix=\"-Finalizado-\", end='\\n')"
   ]
  }
 ],
 "metadata": {
  "kernelspec": {
   "display_name": "Python 3.9.7 ('cuda')",
   "language": "python",
   "name": "python3"
  },
  "language_info": {
   "codemirror_mode": {
    "name": "ipython",
    "version": 3
   },
   "file_extension": ".py",
   "mimetype": "text/x-python",
   "name": "python",
   "nbconvert_exporter": "python",
   "pygments_lexer": "ipython3",
   "version": "3.9.7"
  },
  "orig_nbformat": 4,
  "vscode": {
   "interpreter": {
    "hash": "abd35b45171d7db44e0917decb7b6771c7e1c8fdd7753e68850916b7a326c2e5"
   }
  }
 },
 "nbformat": 4,
 "nbformat_minor": 2
}
