{
 "cells": [
  {
   "cell_type": "code",
   "execution_count": 2,
   "metadata": {},
   "outputs": [],
   "source": [
    "from cuda_with_launcher import *"
   ]
  },
  {
   "cell_type": "code",
   "execution_count": 3,
   "metadata": {},
   "outputs": [],
   "source": [
    "# d_list, f_day, l_length = configuration.prepare_deaths_list(\"Spain\", v2=True)"
   ]
  },
  {
   "cell_type": "code",
   "execution_count": 3,
   "metadata": {},
   "outputs": [
    {
     "name": "stdout",
     "output_type": "stream",
     "text": [
      "Austria\n",
      "Argentina\n",
      "Bangladesh\n",
      "Belgium\n",
      "Bolivia (Plurinational State of\n",
      "Bulgaria\n",
      "Canada\n",
      "Chile\n",
      "Colombia\n",
      "Egypt\n",
      "France\n",
      "Germany\n",
      "Greece\n",
      "Guatemala\n",
      "Honduras\n",
      "Hungary\n",
      "Indonesia\n",
      "Iraq\n",
      "Ireland\n",
      "Israel\n",
      "Italy\n",
      "Japan\n",
      "Kuwait\n",
      "Luxembourg\n",
      "Malaysia\n",
      "Mexico\n",
      "Morocco\n",
      "Netherlands\n",
      "Nigeria\n",
      "Pakistan\n",
      "Panama\n",
      "Philippines\n",
      "Poland\n",
      "Portugal\n",
      "Romania\n",
      "Russian Federation\n",
      "Saudi Arabia\n",
      "South Africa\n",
      "Spain\n",
      "Sweden\n",
      "Switzerland\n",
      "Turkey\n",
      "United States of America\n",
      "Ukraine\n",
      "United Arab Emirates\n",
      "United Kingdom of Great Britain\n"
     ]
    }
   ],
   "source": [
    "for c in configuration.get_all_countries():\n",
    "    print(c)\n",
    "    \n",
    "    configuration.prepare_deaths_p_active(c, plot=False, v2=True)\n",
    "    continue\n",
    "    try:\n",
    "        conf = configuration.read_configuration(c, prefix=\"used/\", sufix=\"\", v2=True)\n",
    "        # del conf[\"what\"]\n",
    "        conf[\"fixed_params\"][\"what\"] = 0.091\n",
    "        configuration.save_configuration(conf, prefix=\"used/\", sufix=\"\")\n",
    "    except Exception as e:\n",
    "        print(e)"
   ]
  },
  {
   "cell_type": "code",
   "execution_count": null,
   "metadata": {},
   "outputs": [],
   "source": [
    "COUNTRY = 'Spain'\n",
    "analysis.plot_the_plots(COUNTRY, only_correlations=True, with_seaborn=False)"
   ]
  }
 ],
 "metadata": {
  "interpreter": {
   "hash": "f91fb30167a16b30919943af9380058ffe5155e17cd78056e30cf609013f3230"
  },
  "kernelspec": {
   "display_name": "Python 3.9.12 ('cuda2')",
   "language": "python",
   "name": "python3"
  },
  "language_info": {
   "codemirror_mode": {
    "name": "ipython",
    "version": 3
   },
   "file_extension": ".py",
   "mimetype": "text/x-python",
   "name": "python",
   "nbconvert_exporter": "python",
   "pygments_lexer": "ipython3",
   "version": "3.9.12"
  },
  "orig_nbformat": 4
 },
 "nbformat": 4,
 "nbformat_minor": 2
}
