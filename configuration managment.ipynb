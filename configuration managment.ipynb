{
 "cells": [
  {
   "cell_type": "code",
   "execution_count": 1,
   "metadata": {},
   "outputs": [],
   "source": [
    "from cuda_with_launcher import *"
   ]
  },
  {
   "cell_type": "code",
   "execution_count": 3,
   "metadata": {},
   "outputs": [],
   "source": [
    "# d_list, f_day, l_length = configuration.prepare_deaths_list(\"Spain\", v2=True)"
   ]
  },
  {
   "cell_type": "code",
   "execution_count": 10,
   "metadata": {},
   "outputs": [
    {
     "name": "stdout",
     "output_type": "stream",
     "text": [
      "Generarando configuración -> ||▮▮▮▮▮▮▮▮▮▮▮▮▮▮▮▮▮▮▮▮▮▮▮▮▮||100.00%  -Finalizado-om of Great Britain)\n"
     ]
    }
   ],
   "source": [
    "\n",
    "all_countries = configuration.get_all_countries()\n",
    "\n",
    "for i,c in enumerate(all_countries):\n",
    "    kernel.progress_bar(f'Generarando configuración', i, len(all_countries), len=25, sufix=f\"({c})\", end=\"\\r\")\n",
    "    # configuration.prepare_deaths_p_active(c, plot=False, v2=True)\n",
    "    continue\n",
    "    try:\n",
    "        conf = configuration.read_configuration(c, prefix=\"used/\", sufix=\"\", v2=True)\n",
    "        # del conf[\"what\"]\n",
    "        conf[\"fixed_params\"][\"what\"] = 0.091\n",
    "        configuration.save_configuration(conf, prefix=\"used/\", sufix=\"\")\n",
    "    except Exception as e:\n",
    "        print(e)\n",
    "else:\n",
    "    kernel.progress_bar('Generarando configuración', 1, 1, len=25, sufix=\"-Finalizado-\", end='\\n')"
   ]
  },
  {
   "cell_type": "code",
   "execution_count": null,
   "metadata": {},
   "outputs": [],
   "source": [
    "COUNTRY = 'Spain'\n",
    "analysis.plot_the_plots(COUNTRY, only_correlations=True, with_seaborn=False)"
   ]
  }
 ],
 "metadata": {
  "interpreter": {
   "hash": "f91fb30167a16b30919943af9380058ffe5155e17cd78056e30cf609013f3230"
  },
  "kernelspec": {
   "display_name": "Python 3.9.12 ('cuda2')",
   "language": "python",
   "name": "python3"
  },
  "language_info": {
   "codemirror_mode": {
    "name": "ipython",
    "version": 3
   },
   "file_extension": ".py",
   "mimetype": "text/x-python",
   "name": "python",
   "nbconvert_exporter": "python",
   "pygments_lexer": "ipython3",
   "version": "3.9.7"
  },
  "orig_nbformat": 4
 },
 "nbformat": 4,
 "nbformat_minor": 2
}
