{
 "cells": [
  {
   "cell_type": "code",
   "execution_count": 1,
   "metadata": {},
   "outputs": [],
   "source": [
    "import numpy as np\n",
    "import matplotlib.pyplot as plt"
   ]
  },
  {
   "cell_type": "code",
   "execution_count": 12,
   "metadata": {},
   "outputs": [
    {
     "data": {
      "image/png": "[encoded data removed]",
      "text/plain": [
       "<Figure size 252x189 with 2 Axes>"
      ]
     },
     "metadata": {
      "needs_background": "light"
     },
     "output_type": "display_data"
    }
   ],
   "source": [
    "MAX_DAYS = 150\n",
    "\n",
    "Sh = np.zeros(MAX_DAYS)\n",
    "S = np.zeros(MAX_DAYS)\n",
    "E = np.zeros(MAX_DAYS)\n",
    "I = np.zeros(MAX_DAYS)\n",
    "R = np.zeros(MAX_DAYS)\n",
    "Pd = np.zeros(MAX_DAYS)\n",
    "D = np.zeros(MAX_DAYS)\n",
    "\n",
    "i_initial = 1\n",
    "N = 1000000\n",
    "\n",
    "I[0] = i_initial\n",
    "S[0] = N-i_initial\n",
    "\n",
    "betta = 0.07\n",
    "permeability = 0.05\n",
    "k_confined = 3\n",
    "k_active = 12\n",
    "mu = 0.24\n",
    "eta = 0.2\n",
    "IFR = 0.01\n",
    "xi = 0.1\n",
    "sigma = 2.5\n",
    "\n",
    "def secure_home(i, n):\n",
    "    return np.power((1-i/n), sigma-1)\n",
    "\n",
    "def p_infeccion(i, n, k):\n",
    "    return 1- np.power((1- betta*i/n), k)\n",
    "\n",
    "def variations(sh, s, e, i, pd, d, r, p_active):\n",
    "    St = sh + s\n",
    "    N = sh + s + e + i + pd + r + d\n",
    "\n",
    "    P_cont = p_active * p_infeccion(i,N, k_active) + (1-p_active)* (1-secure_home(i,N)*(1-permeability))*p_infeccion(i,N, k_confined)\n",
    "    \n",
    "    return (\n",
    "        St * (1-p_active)*secure_home(i,N)*(1-permeability), \n",
    "        -St*P_cont, \n",
    "        -eta*e + St*P_cont, \n",
    "        -mu*i + eta*e,\n",
    "        mu*IFR*i + -xi*pd,\n",
    "        xi*pd,\n",
    "        mu*(1-IFR)*i\n",
    "        )\n",
    "\n",
    "\n",
    "P_active = np.ones(MAX_DAYS)\n",
    "# P_active[0:70] = 0\n",
    "\n",
    "\n",
    "for t in range(MAX_DAYS-1):\n",
    "    c = variations(Sh[t], S[t], E[t], I[t], Pd[t], D[t], R[t], P_active[t])\n",
    "\n",
    "    Sh[t+1]   = Sh[t] + c[0] \n",
    "    S[t+1]    = S[t]  + c[1] \n",
    "    E[t+1]    = E[t]  + c[2] \n",
    "    I[t+1]    = I[t]  + c[3] \n",
    "    Pd[t+1]   = Pd[t] + c[4] \n",
    "    D[t+1]    = c[5] \n",
    "    R[t+1]    = R[t]  + c[6] \n",
    "\n",
    "with plt.style.context('science'):\n",
    "    fig, ax = plt.subplots()\n",
    "\n",
    "    l_sh = ax.plot(Sh, label='Confinados', color='blue')\n",
    "    l_s = ax.plot(S, label='Susceptibles', color='green')\n",
    "    l_e = ax.plot(E, label='Expuestos', color='red')\n",
    "    l_i = ax.plot(I, label='Infecciosos', color='orange')\n",
    "    l_r = ax.plot(R, label='Recuperados', color='brown')\n",
    "    # ax.plot(Pd, label='', color='orange')\n",
    "    l_d = ax_muertos = ax.twinx()\n",
    "\n",
    "    ax_muertos.plot(D, label='Muertos', color='black')\n",
    "\n",
    "\n",
    "\n",
    "    ax.set_xlabel(\"Tiempo (unidades arbitrarias)\")\n",
    "    ax.set_xticks(ticks= np.linspace(0, len(I), 5, dtype=int), labels=list(map(str, np.linspace(0, 1, 5))))\n",
    "    ax.set_ylabel(\"Población \")\n",
    "    ax.set_yticks(ticks= np.linspace(N/4, N, 4, dtype=int), labels=list(map(lambda x: f\"{int(x)}\\%\", np.linspace(0.25, 1, 4)*100)))\n",
    "    ax.legend(title='Compartimentos', )\n",
    "    ax.set_xlim(0, len(S))\n",
    "    ax.set_ylim(0, N)\n",
    "    ax_muertos.set_ylim(ymin=0)\n",
    "    plt.tight_layout()\n",
    "    plt.show()\n",
    "    fig.savefig(\"images/Our_Model.pdf\")"
   ]
  }
 ],
 "metadata": {
  "interpreter": {
   "hash": "abd35b45171d7db44e0917decb7b6771c7e1c8fdd7753e68850916b7a326c2e5"
  },
  "kernelspec": {
   "display_name": "Python 3.9.7 ('cuda')",
   "language": "python",
   "name": "python3"
  },
  "language_info": {
   "codemirror_mode": {
    "name": "ipython",
    "version": 3
   },
   "file_extension": ".py",
   "mimetype": "text/x-python",
   "name": "python",
   "nbconvert_exporter": "python",
   "pygments_lexer": "ipython3",
   "version": "3.9.7"
  },
  "orig_nbformat": 4
 },
 "nbformat": 4,
 "nbformat_minor": 2
}
